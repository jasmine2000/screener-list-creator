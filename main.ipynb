{
 "cells": [
  {
   "cell_type": "raw",
   "metadata": {},
   "source": [
    "---\n",
    "title: Create Screener List\n",
    "description: (add github link)\n",
    "show-code: False\n",
    "params:\n",
    "    new_data:\n",
    "        input: file\n",
    "        label: New data (from PowerBI)\n",
    "        maxFileSize: 1MB\n",
    "    last_list:\n",
    "        input: file\n",
    "        label: Last Screener List\n",
    "        maxFileSize: 1MB\n",
    "    roster_sheet:\n",
    "        input: file\n",
    "        label: Updated Roster\n",
    "        maxFileSize: 1MB\n",
    "    output_dir:\n",
    "        output: dir\n",
    "---"
   ]
  },
  {
   "cell_type": "code",
   "execution_count": 1,
   "metadata": {},
   "outputs": [],
   "source": [
    "from _input import *\n",
    "from _rules import *\n",
    "from _same_screener import *\n",
    "from _divide_names import *"
   ]
  },
  {
   "cell_type": "code",
   "execution_count": 2,
   "metadata": {},
   "outputs": [],
   "source": [
    "# files\n",
    "new_data = \"example_data/data.xlsx\"\n",
    "last_list = \"example_data/Screener List example.xlsx\"\n",
    "roster_sheet = \"example_data/roster_example.xlsx\"\n",
    "\n",
    "output_dir = \"outputs\""
   ]
  },
  {
   "cell_type": "code",
   "execution_count": 3,
   "metadata": {},
   "outputs": [],
   "source": [
    "# default files\n",
    "rules_sheet = \"rules_default.xlsx\"\n",
    "special_positions_sheet = \"special_positions.xlsx\""
   ]
  },
  {
   "cell_type": "code",
   "execution_count": 4,
   "metadata": {},
   "outputs": [],
   "source": [
    "# download sheets and do some formatting (_input.py)\n",
    "original_sheet, yesterday_sheet = open_files(new_data, last_list)\n",
    "formatted_sheet = preliminary_formatting(original_sheet)\n",
    "\n",
    "# fill in default values (_rules.py)\n",
    "sheet_1 = closed_and_wrong_region(formatted_sheet)\n",
    "sheet_2 = auto_assignments(sheet_1, rules_sheet)\n",
    "\n",
    "# match up screeners (_same_screener.py)\n",
    "screener_map = build_screener_map(yesterday_sheet)\n",
    "sheet_3 = apply_same_screener(sheet_2, screener_map)\n",
    "\n",
    "# change names for same positions (_rules.py)\n",
    "sheet_4 = closed_names(sheet_3)\n",
    "\n",
    "# divide unassigned names based on rules + availability (_divide_names.py)\n",
    "screener_limits, weekly_limits = create_roster_limits(roster_sheet, special_positions_sheet)\n",
    "final_sheet = assign_remaining(sheet_4, screener_limits, weekly_limits)\n",
    "\n",
    "names, new_names = get_screener_workload(final_sheet)\n",
    "workload_df = create_workload_df(names, new_names)"
   ]
  },
  {
   "cell_type": "code",
   "execution_count": 5,
   "metadata": {},
   "outputs": [
    {
     "name": "stdout",
     "output_type": "stream",
     "text": [
      "Example Assignments\n",
      "           Total  New\n",
      "Anchita        8    3\n",
      "Annie          9    2\n",
      "Deepti         5    2\n",
      "Elizabeth      1    0\n",
      "Gilberto       7    2\n",
      "Kate           3    1\n",
      "Lynette        1    0\n",
      "Maria          8    3\n",
      "Melinda        2    0\n",
      "Melissa        2    0\n",
      "Passha         9    2\n",
      "Sameer         4    2\n",
      "Sonia          9    2\n",
      "Younos         5    2\n"
     ]
    }
   ],
   "source": [
    "is_example = new_data == \"example_data/data.xlsx\"\n",
    "\n",
    "today = date.today()\n",
    "today_string = str(today.strftime(\"%m-%d-%Y\"))\n",
    "\n",
    "if is_example:\n",
    "    print(\"Example Assignments\")\n",
    "else:\n",
    "    print(today_string, \"Assignments\")\n",
    "print(workload_df)\n",
    "\n",
    "if not is_example:\n",
    "    today_sheetname = \"LEAD Screener List \" + today_string + \".xlsx\"\n",
    "    final_sheet.to_excel(os.path.join(output_dir, today_sheetname))"
   ]
  }
 ],
 "metadata": {
  "kernelspec": {
   "display_name": "Python 3.7.7 ('venv': venv)",
   "language": "python",
   "name": "python3"
  },
  "language_info": {
   "codemirror_mode": {
    "name": "ipython",
    "version": 3
   },
   "file_extension": ".py",
   "mimetype": "text/x-python",
   "name": "python",
   "nbconvert_exporter": "python",
   "pygments_lexer": "ipython3",
   "version": "3.7.7"
  },
  "orig_nbformat": 4,
  "vscode": {
   "interpreter": {
    "hash": "f0b2d9085d362a8b8a5be3a167ba52ec76edde5c52f7df7453fe99d551310eed"
   }
  }
 },
 "nbformat": 4,
 "nbformat_minor": 2
}
